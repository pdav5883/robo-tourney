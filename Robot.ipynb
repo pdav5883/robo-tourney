{
 "cells": [
  {
   "cell_type": "markdown",
   "metadata": {},
   "source": [
    "# Robo Picker\n",
    "The original robot used from ~2016 to 2022 when it was upgraded to Robo 2.0."
   ]
  },
  {
   "cell_type": "code",
   "execution_count": 1,
   "metadata": {},
   "outputs": [],
   "source": [
    "import numpy as np\n",
    "import pandas as pd\n",
    "import math as mm"
   ]
  },
  {
   "cell_type": "code",
   "execution_count": 2,
   "metadata": {},
   "outputs": [],
   "source": [
    "year = \"2022\""
   ]
  },
  {
   "cell_type": "code",
   "execution_count": 3,
   "metadata": {},
   "outputs": [],
   "source": [
    "tourney_teams = []\n",
    "\n",
    "cols_basic = ['Rk','School','G','W','L','WL%','SRS','SOS','Blank1','CW','CL','Blank2','HW','HL','Blank3',\n",
    "              'AW','AL','Blank4','PtTm','PtOpp','Blank5','Mins','FG','FGA','FG%','3P',\n",
    "              '3PA','3P%','FT','FTA','FT%','ORB','TRB','AST','STL','BLK',\n",
    "              'TOV','PF']\n",
    "\n",
    "cols_adv = ['Rk','School','G','W','L','WL%','SRS','SOS','Blank1','CW','CL','Blank2','HW','HL','Blank3',\n",
    "            'AW','AL','Blank4','PtTm','PtOpp','Blank5','Pace','ORtg','FTr','3PAr','TS%',\n",
    "           'TRB%','AST%','STL%','BLK%','eFG%','TOV%','ORB%','FT/FGA']\n",
    "               "
   ]
  },
  {
   "cell_type": "code",
   "execution_count": 4,
   "metadata": {},
   "outputs": [],
   "source": [
    "team_adv = pd.read_csv(year + '/TeamAdvanced.csv')\n",
    "team_adv.columns = cols_adv\n",
    "allteams = team_adv.iloc[:,1]\n",
    "team_adv.index = allteams\n",
    "team_adv.drop(['Rk','School','G','W','L','WL%','SRS','SOS','CW','CL','HW','HL',\n",
    "            'AW','AL','PtTm','PtOpp','Blank1','Blank2','Blank3','Blank4','Blank5'], axis=1, inplace=True)\n",
    "\n",
    "team_basic = pd.read_csv(year + '/TeamBasic.csv')\n",
    "team_basic.columns = cols_basic\n",
    "team_basic.index = allteams\n",
    "team_basic.drop(['Blank1','Blank2','Blank3','Blank4','Blank5'], axis=1, inplace=True)\n",
    "\n",
    "frames = [team_basic,team_adv]\n",
    "team_stats = pd.concat(frames,axis=1)"
   ]
  },
  {
   "cell_type": "code",
   "execution_count": 58,
   "metadata": {},
   "outputs": [
    {
     "name": "stdout",
     "output_type": "stream",
     "text": [
      "Akron NCAA\n",
      "UAB NCAA\n",
      "Alabama NCAA\n",
      "Arizona NCAA\n",
      "Arkansas NCAA\n",
      "Auburn NCAA\n",
      "Baylor NCAA\n",
      "Boise State NCAA\n",
      "Bryant NCAA\n",
      "Cal State Fullerton NCAA\n",
      "Chattanooga NCAA\n",
      "Colgate NCAA\n",
      "Colorado State NCAA\n",
      "Connecticut NCAA\n",
      "Creighton NCAA\n",
      "Davidson NCAA\n",
      "Delaware NCAA\n",
      "Duke NCAA\n",
      "Georgia State NCAA\n",
      "Gonzaga NCAA\n",
      "Houston NCAA\n",
      "Illinois NCAA\n",
      "Indiana NCAA\n",
      "Iowa State NCAA\n",
      "Iowa NCAA\n",
      "Jacksonville State NCAA\n",
      "Kansas NCAA\n",
      "Kentucky NCAA\n",
      "Longwood NCAA\n",
      "Louisiana State NCAA\n",
      "Loyola (IL) NCAA\n",
      "Marquette NCAA\n",
      "Memphis NCAA\n",
      "Miami (FL) NCAA\n",
      "Michigan State NCAA\n",
      "Michigan NCAA\n",
      "Montana State NCAA\n",
      "Murray State NCAA\n",
      "New Mexico State NCAA\n",
      "Norfolk State NCAA\n",
      "North Carolina NCAA\n",
      "Notre Dame NCAA\n",
      "Ohio State NCAA\n",
      "Providence NCAA\n",
      "Purdue NCAA\n",
      "Richmond NCAA\n",
      "Rutgers NCAA\n",
      "Saint Mary's (CA) NCAA\n",
      "Saint Peter's NCAA\n",
      "San Diego State NCAA\n",
      "San Francisco NCAA\n",
      "Seton Hall NCAA\n",
      "South Dakota State NCAA\n",
      "Southern California NCAA\n",
      "Tennessee NCAA\n",
      "Texas A&M-Corpus Christi NCAA\n",
      "TCU NCAA\n",
      "Texas Southern NCAA\n",
      "Texas Tech NCAA\n",
      "Texas NCAA\n",
      "UCLA NCAA\n",
      "Vermont NCAA\n",
      "Villanova NCAA\n",
      "Virginia Tech NCAA\n",
      "Wisconsin NCAA\n",
      "Wright State NCAA\n",
      "Wyoming NCAA\n",
      "Yale NCAA\n"
     ]
    }
   ],
   "source": [
    "for x in allteams:\n",
    "    if x[-4:] == \"NCAA\":\n",
    "        print(x)"
   ]
  },
  {
   "cell_type": "code",
   "execution_count": 49,
   "metadata": {},
   "outputs": [],
   "source": [
    "w = [2.5,1,.5,1,2,1]\n",
    "stats = ['SRS','TS%','FT','ORB','TRB%','AST%']\n",
    "maxdiff = [15.,3.,50.,50.,15.,10.]\n",
    "chaos = 3 # higher is more chaos"
   ]
  },
  {
   "cell_type": "code",
   "execution_count": 51,
   "metadata": {},
   "outputs": [],
   "source": [
    "def calcVal(teamA,teamB):\n",
    "    accum = 0\n",
    "    \n",
    "    for i in range(0,len(stats)):\n",
    "        valA = float(team_stats.loc[teamA,stats[i]])\n",
    "        valB = float(team_stats.loc[teamB,stats[i]])\n",
    "        accum += w[i]/maxdiff[i]*min(maxdiff[i],valA-valB)\n",
    "#         print(stats[i], valA, valB)\n",
    "#         print(stats[i], valA-valB, w[i]/maxdiff[i]*min(maxdiff[i],valA-valB))\n",
    "    \n",
    "#     print('acc: ', accum)\n",
    "    return accum\n",
    "\n",
    "def calcProb(val):\n",
    "    return .1+.8/(1+mm.exp(-val/chaos))\n",
    "\n",
    "    "
   ]
  },
  {
   "cell_type": "code",
   "execution_count": 151,
   "metadata": {},
   "outputs": [
    {
     "name": "stdout",
     "output_type": "stream",
     "text": [
      "prob 0.4454312451553303\n",
      "rand val 0.48642854785653844\n",
      "Iowa NCAA  wins\n"
     ]
    }
   ],
   "source": [
    "tA = \"Memphis NCAA\"\n",
    "tB = \"Iowa NCAA\"\n",
    "prb = calcProb(calcVal(tA,tB))\n",
    "print(\"prob\", prb)\n",
    "\n",
    "val = np.random.uniform()\n",
    "print(\"rand val\", val)\n",
    "\n",
    "if  val < prb:\n",
    "    print(tA, ' wins')\n",
    "else:\n",
    "    print(tB, ' wins')\n",
    "\n"
   ]
  }
 ],
 "metadata": {
  "anaconda-cloud": {},
  "kernelspec": {
   "display_name": "Python 3",
   "language": "python",
   "name": "python3"
  },
  "language_info": {
   "codemirror_mode": {
    "name": "ipython",
    "version": 3
   },
   "file_extension": ".py",
   "mimetype": "text/x-python",
   "name": "python",
   "nbconvert_exporter": "python",
   "pygments_lexer": "ipython3",
   "version": "3.6.8"
  }
 },
 "nbformat": 4,
 "nbformat_minor": 1
}
