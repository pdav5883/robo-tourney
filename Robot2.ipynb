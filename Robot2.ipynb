{
 "cells": [
  {
   "cell_type": "markdown",
   "id": "5b83c291",
   "metadata": {},
   "source": [
    "`tournament`: list of rounds (don't include first four)\n",
    "\n",
    "`round`: list of games in the round (all regions)\n",
    "\n",
    "`game: ((rankA, teamA, scoreA), (rankB, teamB, scoreB), winner, location)`\n",
    "\n",
    "`winner`: 0 if teamA wins, 1 if teamB wins"
   ]
  },
  {
   "cell_type": "code",
   "execution_count": 1,
   "id": "83c9818f",
   "metadata": {},
   "outputs": [],
   "source": [
    "import parse_tournament as pt\n",
    "import stats_table as st"
   ]
  },
  {
   "cell_type": "code",
   "execution_count": null,
   "id": "23fa3335",
   "metadata": {},
   "outputs": [],
   "source": [
    "rounds = pt.parse_tournament(2018)\n",
    "\n",
    "for r in rounds:\n",
    "    print(\"======== Round of {} ==========\".format(2*len(r)))\n",
    "    for g in r:\n",
    "        print(g)"
   ]
  },
  {
   "cell_type": "code",
   "execution_count": 2,
   "id": "7ecc1fec",
   "metadata": {},
   "outputs": [],
   "source": [
    "df = st.get_combined_stats_table(2018)"
   ]
  },
  {
   "cell_type": "code",
   "execution_count": 3,
   "id": "dbd58e07",
   "metadata": {},
   "outputs": [
    {
     "data": {
      "text/plain": [
       "<bound method DataFrame.info of                   Overall_G Overall_W Overall_L Overall_W-L% Overall_SRS  \\\n",
       "Abilene Christian        32        16        16         .500       -9.14   \n",
       "Air Force                31        12        19         .387       -4.31   \n",
       "Akron                    32        14        18         .438       -6.82   \n",
       "Alabama A&M              31         3        28         .097      -23.97   \n",
       "UAB                      33        20        13         .606        4.90   \n",
       "...                     ...       ...       ...          ...         ...   \n",
       "Wright State             35        25        10         .714        0.58   \n",
       "Wyoming                  33        20        13         .606        4.26   \n",
       "Xavier                   35        29         6         .829       19.06   \n",
       "Yale                     31        16        15         .516       -4.19   \n",
       "Youngstown State         32         8        24         .250      -13.66   \n",
       "\n",
       "                  Overall_SOS Conf._W Conf._L Home_W Home_L  ...  3PAr   TS%  \\\n",
       "Abilene Christian       -6.82       8      10      9      6  ...  .350  .549   \n",
       "Air Force                1.72       6      12      9      7  ...  .431  .527   \n",
       "Akron                   -1.92       6      12     12      4  ...  .467  .547   \n",
       "Alabama A&M             -8.04       3      15      2      9  ...  .354  .480   \n",
       "UAB                     -0.65      10       8     14      3  ...  .334  .575   \n",
       "...                       ...     ...     ...    ...    ...  ...   ...   ...   \n",
       "Wright State            -3.64      14       4     14      2  ...  .348  .529   \n",
       "Wyoming                  3.54      10       8     13      4  ...  .450  .564   \n",
       "Xavier                   9.43      15       3     17      1  ...  .358  .601   \n",
       "Yale                    -2.83       9       5      9      3  ...  .422  .562   \n",
       "Youngstown State        -2.56       6      12      6      6  ...  .337  .505   \n",
       "\n",
       "                   TRB%  AST%  STL%  BLK%  eFG%  TOV%  ORB% FT/FGA  \n",
       "Abilene Christian  49.7  55.4  11.3  11.6  .521  17.7  28.0   .217  \n",
       "Air Force          48.7  60.7   9.5   8.1  .490  16.3  27.5   .233  \n",
       "Akron              49.2  52.7   8.5   7.5  .518  17.3  27.5   .222  \n",
       "Alabama A&M        48.2  50.5   5.8   3.9  .450  20.9  29.9   .203  \n",
       "UAB                54.8  59.3   7.7  11.6  .545  16.5  31.2   .218  \n",
       "...                 ...   ...   ...   ...   ...   ...   ...    ...  \n",
       "Wright State       51.8  52.7   9.4   6.5  .491  16.3  28.9   .256  \n",
       "Wyoming            47.1  59.3   8.4   9.8  .523  16.1  19.2   .298  \n",
       "Xavier             55.1  57.3   8.0   8.4  .559  15.2  30.2   .320  \n",
       "Yale               49.8  61.0   9.3   8.2  .533  16.5  26.0   .221  \n",
       "Youngstown State   50.8  49.3  11.1  10.4  .483  16.2  35.7   .176  \n",
       "\n",
       "[351 rows x 44 columns]>"
      ]
     },
     "execution_count": 3,
     "metadata": {},
     "output_type": "execute_result"
    }
   ],
   "source": [
    "df.info"
   ]
  }
 ],
 "metadata": {
  "kernelspec": {
   "display_name": "Python 3",
   "language": "python",
   "name": "python3"
  },
  "language_info": {
   "codemirror_mode": {
    "name": "ipython",
    "version": 3
   },
   "file_extension": ".py",
   "mimetype": "text/x-python",
   "name": "python",
   "nbconvert_exporter": "python",
   "pygments_lexer": "ipython3",
   "version": "3.6.8"
  }
 },
 "nbformat": 4,
 "nbformat_minor": 5
}
