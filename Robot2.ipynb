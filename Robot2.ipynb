{
 "cells": [
  {
   "cell_type": "markdown",
   "id": "67a33281",
   "metadata": {},
   "source": [
    "# Robot 2.0\n",
    "The successor"
   ]
  },
  {
   "cell_type": "markdown",
   "id": "5b83c291",
   "metadata": {},
   "source": [
    "`tournament`: list of rounds (don't include first four)\n",
    "\n",
    "`round`: list of games in the round (all regions)\n",
    "\n",
    "`game: ((rankA, teamA, scoreA), (rankB, teamB, scoreB), winner, location)`\n",
    "\n",
    "`winner`: 0 if teamA wins, 1 if teamB wins"
   ]
  },
  {
   "cell_type": "code",
   "execution_count": 1,
   "id": "83c9818f",
   "metadata": {},
   "outputs": [],
   "source": [
    "import parse_tournament as pt\n",
    "import stats_table as st\n",
    "import simulate_tournament as sim\n",
    "import numpy as np"
   ]
  },
  {
   "cell_type": "code",
   "execution_count": 2,
   "id": "866d122f",
   "metadata": {},
   "outputs": [],
   "source": [
    "def robot1(teamA_combined_stats, teamB_combined_stats, debug=False):\n",
    "    stats = ['Overall_SRS', 'TS%', 'FT', 'ORB', 'TRB%', 'AST%']\n",
    "    weights = [2.5        ,  1   ,  0.5,  1   ,  2    ,  1]\n",
    "    maxdiff = [15.        ,  .05  ,  50.,  50. ,  15.  ,  10.]\n",
    "    \n",
    "    accum = 0\n",
    "    \n",
    "    for s, w, md in zip(stats, weights, maxdiff):\n",
    "        valA = float(teamA_combined_stats[s])\n",
    "        valB = float(teamB_combined_stats[s])\n",
    "        \n",
    "        # old line incorrect: accum += w / md * min(md, valA - valB)\n",
    "        dval = valA - valB\n",
    "        dval = np.sign(dval) * min(abs(dval), md) / md # normalize by maxdiff\n",
    "        accum += w * dval\n",
    "        \n",
    "        if debug:\n",
    "            print(\"{} A:{}, B:{}, dval:{}\".format(s, valA, valB, dval))\n",
    "            \n",
    "    if debug:\n",
    "        print(\"Total: {}\".format(accum))\n",
    "        \n",
    "    if accum > 0: # teamA wins\n",
    "        return 0\n",
    "    else: # teamB wins\n",
    "        return 1"
   ]
  },
  {
   "cell_type": "code",
   "execution_count": 3,
   "id": "d6a4aa6f",
   "metadata": {},
   "outputs": [],
   "source": [
    "year = 2017\n",
    "rounds_truth = pt.parse_tournament(year)\n",
    "df = st.get_combined_stats_table(year)\n",
    "\n",
    "# sim.print_tournament(rounds_truth)"
   ]
  },
  {
   "cell_type": "code",
   "execution_count": 4,
   "id": "0ef51071",
   "metadata": {},
   "outputs": [],
   "source": [
    "matchups64 = sim.get_initial_matchups(rounds_truth)\n",
    "\n",
    "rounds_predict = sim.simulate_tournament(df, matchups64, robot1, False)"
   ]
  },
  {
   "cell_type": "code",
   "execution_count": 5,
   "id": "b2b287ba",
   "metadata": {},
   "outputs": [
    {
     "name": "stdout",
     "output_type": "stream",
     "text": [
      "Round of 64 Subtotal: 27\n",
      "Round of 32 Subtotal: 24\n",
      "Round of 16 Subtotal: 20\n",
      "Round of 8 Subtotal: 16\n",
      "Round of 4 Subtotal: 32\n",
      "Round of 2 Subtotal: 32\n",
      "Total Points: 151\n"
     ]
    },
    {
     "data": {
      "text/plain": [
       "151"
      ]
     },
     "execution_count": 5,
     "metadata": {},
     "output_type": "execute_result"
    }
   ],
   "source": [
    "sim.score_tournament(rounds_predict, rounds_truth, True)"
   ]
  },
  {
   "cell_type": "code",
   "execution_count": 6,
   "id": "b6d2e16a",
   "metadata": {},
   "outputs": [
    {
     "name": "stdout",
     "output_type": "stream",
     "text": [
      "======== Round of 64 ==========\n",
      "((1, 'Kansas'), (16, 'UC-Davis'), 0)\n",
      "((8, 'Miami (FL)'), (9, 'Michigan State'), 1)\n",
      "((5, 'Iowa State'), (12, 'Nevada'), 1)\n",
      "((4, 'Purdue'), (13, 'Vermont'), 0)\n",
      "((6, 'Creighton'), (11, 'Rhode Island'), 0)\n",
      "((3, 'Oregon'), (14, 'Iona'), 0)\n",
      "((7, 'Michigan'), (10, 'Oklahoma State'), 1)\n",
      "((2, 'Louisville'), (15, 'Jacksonville State'), 0)\n",
      "((1, 'UNC'), (16, 'Texas Southern'), 0)\n",
      "((8, 'Arkansas'), (9, 'Seton Hall'), 0)\n",
      "((5, 'Minnesota'), (12, 'Middle Tennessee'), 0)\n",
      "((4, 'Butler'), (13, 'Winthrop'), 0)\n",
      "((6, 'Cincinnati'), (11, 'Kansas State'), 0)\n",
      "((3, 'UCLA'), (14, 'Kent State'), 0)\n",
      "((7, 'Dayton'), (10, 'Wichita State'), 1)\n",
      "((2, 'Kentucky'), (15, 'Northern Kentucky'), 0)\n",
      "((1, 'Villanova'), (16, \"Mount St. Mary's\"), 0)\n",
      "((8, 'Wisconsin'), (9, 'Virginia Tech'), 0)\n",
      "((5, 'Virginia'), (12, 'UNC Wilmington'), 0)\n",
      "((4, 'Florida'), (13, 'ETSU'), 0)\n",
      "((6, 'SMU'), (11, 'USC'), 0)\n",
      "((3, 'Baylor'), (14, 'New Mexico State'), 0)\n",
      "((7, 'South Carolina'), (10, 'Marquette'), 0)\n",
      "((2, 'Duke'), (15, 'Troy'), 0)\n",
      "((1, 'Gonzaga'), (16, 'South Dakota State'), 0)\n",
      "((8, 'Northwestern'), (9, 'Vanderbilt'), 0)\n",
      "((5, 'Notre Dame'), (12, 'Princeton'), 0)\n",
      "((4, 'West Virginia'), (13, 'Bucknell'), 0)\n",
      "((6, 'Maryland'), (11, 'Xavier'), 1)\n",
      "((3, 'Florida State'), (14, 'Florida Gulf Coast'), 0)\n",
      "((7, \"Saint Mary's\"), (10, 'VCU'), 0)\n",
      "((2, 'Arizona'), (15, 'North Dakota'), 0)\n",
      "======== Round of 32 ==========\n",
      "((1, 'Kansas'), (9, 'Michigan State'), 0)\n",
      "((12, 'Nevada'), (4, 'Purdue'), 1)\n",
      "((6, 'Creighton'), (3, 'Oregon'), 1)\n",
      "((10, 'Oklahoma State'), (2, 'Louisville'), 0)\n",
      "((1, 'UNC'), (8, 'Arkansas'), 0)\n",
      "((5, 'Minnesota'), (4, 'Butler'), 0)\n",
      "((6, 'Cincinnati'), (3, 'UCLA'), 1)\n",
      "((10, 'Wichita State'), (2, 'Kentucky'), 1)\n",
      "((1, 'Villanova'), (8, 'Wisconsin'), 0)\n",
      "((5, 'Virginia'), (4, 'Florida'), 1)\n",
      "((6, 'SMU'), (3, 'Baylor'), 1)\n",
      "((7, 'South Carolina'), (2, 'Duke'), 1)\n",
      "((1, 'Gonzaga'), (8, 'Northwestern'), 0)\n",
      "((5, 'Notre Dame'), (4, 'West Virginia'), 1)\n",
      "((11, 'Xavier'), (3, 'Florida State'), 0)\n",
      "((7, \"Saint Mary's\"), (2, 'Arizona'), 1)\n",
      "======== Round of 16 ==========\n",
      "((1, 'Kansas'), (4, 'Purdue'), 0)\n",
      "((3, 'Oregon'), (10, 'Oklahoma State'), 1)\n",
      "((1, 'UNC'), (5, 'Minnesota'), 0)\n",
      "((3, 'UCLA'), (2, 'Kentucky'), 1)\n",
      "((1, 'Villanova'), (4, 'Florida'), 0)\n",
      "((3, 'Baylor'), (2, 'Duke'), 0)\n",
      "((1, 'Gonzaga'), (4, 'West Virginia'), 0)\n",
      "((11, 'Xavier'), (2, 'Arizona'), 0)\n",
      "======== Round of 8 ==========\n",
      "((1, 'Kansas'), (10, 'Oklahoma State'), 0)\n",
      "((1, 'UNC'), (2, 'Kentucky'), 0)\n",
      "((1, 'Villanova'), (3, 'Baylor'), 0)\n",
      "((1, 'Gonzaga'), (11, 'Xavier'), 0)\n",
      "======== Round of 4 ==========\n",
      "((1, 'Kansas'), (1, 'UNC'), 1)\n",
      "((1, 'Villanova'), (1, 'Gonzaga'), 1)\n",
      "======== Round of 2 ==========\n",
      "((1, 'UNC'), (1, 'Gonzaga'), 0)\n"
     ]
    }
   ],
   "source": [
    "sim.print_tournament(rounds_predict)"
   ]
  }
 ],
 "metadata": {
  "kernelspec": {
   "display_name": "Python 3",
   "language": "python",
   "name": "python3"
  },
  "language_info": {
   "codemirror_mode": {
    "name": "ipython",
    "version": 3
   },
   "file_extension": ".py",
   "mimetype": "text/x-python",
   "name": "python",
   "nbconvert_exporter": "python",
   "pygments_lexer": "ipython3",
   "version": "3.6.8"
  }
 },
 "nbformat": 4,
 "nbformat_minor": 5
}
