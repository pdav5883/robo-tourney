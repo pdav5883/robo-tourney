{
 "cells": [
  {
   "cell_type": "markdown",
   "id": "5b83c291",
   "metadata": {},
   "source": [
    "`tournament`: list of rounds (don't include first four)\n",
    "\n",
    "`round`: list of games in the round (all regions)\n",
    "\n",
    "`game: ((rankA, teamA, scoreA), (rankB, teamB, scoreB), winner, location)`\n",
    "\n",
    "`winner`: 0 if teamA wins, 1 if teamB wins"
   ]
  },
  {
   "cell_type": "code",
   "execution_count": 15,
   "id": "83c9818f",
   "metadata": {},
   "outputs": [],
   "source": [
    "import parse_tournament as pt"
   ]
  },
  {
   "cell_type": "code",
   "execution_count": 18,
   "id": "23fa3335",
   "metadata": {},
   "outputs": [
    {
     "name": "stdout",
     "output_type": "stream",
     "text": [
      "((1, 'Villanova', 87), (16, 'Radford', 61), 0, 'Pittsburgh, PA')\n",
      "((8, 'Virginia Tech', 83), (9, 'Alabama', 86), 1, 'Pittsburgh, PA')\n",
      "((5, 'West Virginia', 85), (12, 'Murray State', 68), 0, 'San Diego, CA')\n",
      "((4, 'Wichita State', 75), (13, 'Marshall', 81), 1, 'San Diego, CA')\n",
      "((6, 'Florida', 77), (11, 'St. Bonaventure', 62), 0, 'Dallas, TX')\n",
      "((3, 'Texas Tech', 70), (14, 'Stephen F. Austin', 60), 0, 'Dallas, TX')\n",
      "((7, 'Arkansas', 62), (10, 'Butler', 79), 1, 'Detroit, MI')\n",
      "((2, 'Purdue', 74), (15, 'Cal State Fullerton', 48), 0, 'Detroit, MI')\n",
      "((1, 'Virginia', 54), (16, 'UMBC', 74), 1, 'Charlotte, NC')\n",
      "((8, 'Creighton', 59), (9, 'Kansas State', 69), 1, 'Charlotte, NC')\n",
      "((5, 'Kentucky', 78), (12, 'Davidson', 73), 0, 'Boise, ID')\n",
      "((4, 'Arizona', 68), (13, 'Buffalo', 89), 1, 'Boise, ID')\n",
      "((6, 'Miami (FL)', 62), (11, 'Loyola (IL)', 64), 1, 'Dallas, TX')\n",
      "((3, 'Tennessee', 73), (14, 'Wright State', 47), 0, 'Dallas, TX')\n",
      "((7, 'Nevada', 87), (10, 'Texas', 83), 0, 'Nashville, TN')\n",
      "((2, 'Cincinnati', 68), (15, 'Georgia State', 53), 0, 'Nashville, TN')\n",
      "((1, 'Xavier', 102), (16, 'Texas Southern', 83), 0, 'Nashville, TN')\n",
      "((8, 'Missouri', 54), (9, 'Florida State', 67), 1, 'Nashville, TN')\n",
      "((5, 'Ohio State', 81), (12, 'South Dakota State', 73), 0, 'Boise, ID')\n",
      "((4, 'Gonzaga', 68), (13, 'UNC Greensboro', 64), 0, 'Boise, ID')\n",
      "((6, 'Houston', 67), (11, 'San Diego State', 65), 0, 'Wichita, KS')\n",
      "((3, 'Michigan', 61), (14, 'Montana', 47), 0, 'Wichita, KS')\n",
      "((7, 'Texas A&M', 73), (10, 'Providence', 69), 0, 'Charlotte, NC')\n",
      "((2, 'UNC', 84), (15, 'Lipscomb', 66), 0, 'Charlotte, NC')\n",
      "((1, 'Kansas', 76), (16, 'Penn', 60), 0, 'Wichita, KS')\n",
      "((8, 'Seton Hall', 94), (9, 'NC State', 83), 0, 'Wichita, KS')\n",
      "((5, 'Clemson', 79), (12, 'New Mexico State', 68), 0, 'San Diego, CA')\n",
      "((4, 'Auburn', 62), (13, 'College of Charleston', 58), 0, 'San Diego, CA')\n",
      "((6, 'TCU', 52), (11, 'Syracuse', 57), 1, 'Detroit, MI')\n",
      "((3, 'Michigan State', 82), (14, 'Bucknell', 78), 0, 'Detroit, MI')\n",
      "((7, 'Rhode Island', 83), (10, 'Oklahoma', 78), 0, 'Pittsburgh, PA')\n",
      "((2, 'Duke', 89), (15, 'Iona', 67), 0, 'Pittsburgh, PA')\n",
      "((1, 'Villanova', 81), (9, 'Alabama', 58), 0, 'Pittsburgh, PA')\n",
      "((5, 'West Virginia', 94), (13, 'Marshall', 71), 0, 'San Diego, CA')\n",
      "((6, 'Florida', 66), (3, 'Texas Tech', 69), 1, 'Dallas, TX')\n",
      "((10, 'Butler', 73), (2, 'Purdue', 76), 1, 'Detroit, MI')\n",
      "((16, 'UMBC', 43), (9, 'Kansas State', 50), 1, 'Charlotte, NC')\n",
      "((5, 'Kentucky', 95), (13, 'Buffalo', 75), 0, 'Boise, ID')\n",
      "((11, 'Loyola (IL)', 63), (3, 'Tennessee', 62), 0, 'Dallas, TX')\n",
      "((7, 'Nevada', 75), (2, 'Cincinnati', 73), 0, 'Nashville, TN')\n",
      "((1, 'Xavier', 70), (9, 'Florida State', 75), 1, 'Nashville, TN')\n",
      "((5, 'Ohio State', 84), (4, 'Gonzaga', 90), 1, 'Boise, ID')\n",
      "((6, 'Houston', 63), (3, 'Michigan', 64), 1, 'Wichita, KS')\n",
      "((7, 'Texas A&M', 86), (2, 'UNC', 65), 0, 'Charlotte, NC')\n",
      "((1, 'Kansas', 83), (8, 'Seton Hall', 79), 0, 'Wichita, KS')\n",
      "((5, 'Clemson', 84), (4, 'Auburn', 53), 0, 'San Diego, CA')\n",
      "((11, 'Syracuse', 55), (3, 'Michigan State', 53), 0, 'Detroit, MI')\n",
      "((7, 'Rhode Island', 62), (2, 'Duke', 87), 1, 'Pittsburgh, PA')\n",
      "((1, 'Villanova', 90), (5, 'West Virginia', 78), 0, 'Boston, MA')\n",
      "((3, 'Texas Tech', 78), (2, 'Purdue', 65), 0, 'Boston, MA')\n",
      "((9, 'Kansas State', 61), (5, 'Kentucky', 58), 0, 'Atlanta, GA')\n",
      "((11, 'Loyola (IL)', 69), (7, 'Nevada', 68), 0, 'Atlanta, GA')\n",
      "((9, 'Florida State', 75), (4, 'Gonzaga', 60), 0, 'Los Angeles, CA')\n",
      "((3, 'Michigan', 99), (7, 'Texas A&M', 72), 0, 'Los Angeles, CA')\n",
      "((1, 'Kansas', 80), (5, 'Clemson', 76), 0, 'Omaha, NE')\n",
      "((11, 'Syracuse', 65), (2, 'Duke', 69), 1, 'Omaha, NE')\n",
      "((1, 'Villanova', 71), (3, 'Texas Tech', 59), 0, 'Boston, MA')\n",
      "((9, 'Kansas State', 62), (11, 'Loyola (IL)', 78), 1, 'Atlanta, GA')\n",
      "((9, 'Florida State', 54), (3, 'Michigan', 58), 1, 'Los Angeles, CA')\n",
      "((1, 'Kansas', 85), (2, 'Duke', 81), 0, 'Omaha, NE')\n",
      "((1, 'Villanova', 95), (1, 'Kansas', 79), 0, 'San Antonio, TX')\n",
      "((11, 'Loyola (IL)', 57), (3, 'Michigan', 69), 1, 'San Antonio, TX')\n",
      "((1, 'Villanova', 79), (3, 'Michigan', 62), 0, 'San Antonio, TX')\n"
     ]
    }
   ],
   "source": [
    "rounds = pt.parse_tournament(2018)\n",
    "\n",
    "for r in rounds:\n",
    "    for g in r:\n",
    "        print(g)"
   ]
  }
 ],
 "metadata": {
  "kernelspec": {
   "display_name": "Python 3",
   "language": "python",
   "name": "python3"
  },
  "language_info": {
   "codemirror_mode": {
    "name": "ipython",
    "version": 3
   },
   "file_extension": ".py",
   "mimetype": "text/x-python",
   "name": "python",
   "nbconvert_exporter": "python",
   "pygments_lexer": "ipython3",
   "version": "3.6.8"
  }
 },
 "nbformat": 4,
 "nbformat_minor": 5
}
