{
 "cells": [
  {
   "cell_type": "markdown",
   "id": "5b83c291",
   "metadata": {},
   "source": [
    "`tournament`: list of rounds (don't include first four)\n",
    "\n",
    "`round`: list of games in the round (all regions)\n",
    "\n",
    "`game: ((rankA, teamA, scoreA), (rankB, teamB, scoreB), winner, location)`\n",
    "\n",
    "`winner`: 0 if teamA wins, 1 if teamB wins"
   ]
  },
  {
   "cell_type": "code",
   "execution_count": 1,
   "id": "83c9818f",
   "metadata": {},
   "outputs": [],
   "source": [
    "import parse_tournament as pt\n",
    "import stats_table as st\n",
    "import numpy as np"
   ]
  },
  {
   "cell_type": "code",
   "execution_count": 25,
   "id": "23fa3335",
   "metadata": {},
   "outputs": [
    {
     "name": "stdout",
     "output_type": "stream",
     "text": [
      "======== Round of 64 ==========\n",
      "((1, 'UNC', 85), (16, 'East Carolina', 65), 0, 'Winston-Salem, NC')\n",
      "((8, 'Rhode Island', 74), (9, 'Purdue', 68), 0, 'Winston-Salem, NC')\n",
      "((5, \"St. John's (NY)\", 85), (12, 'Texas Tech', 67), 0, 'Winston-Salem, NC')\n",
      "((4, 'Arkansas', 94), (13, 'Holy Cross', 64), 0, 'Winston-Salem, NC')\n",
      "((6, 'Virginia', 78), (11, 'Manhattan', 66), 0, 'Syracuse, NY')\n",
      "((3, 'UMass', 54), (14, 'Penn', 50), 0, 'Syracuse, NY')\n",
      "((7, 'New Mexico State', 93), (10, 'Nebraska', 79), 0, 'Syracuse, NY')\n",
      "((2, 'Cincinnati', 93), (15, 'Coppin State', 66), 0, 'Syracuse, NY')\n",
      "((1, 'Indiana', 97), (16, 'Wright State', 54), 0, 'Indianapolis, IN')\n",
      "((8, 'New Orleans', 55), (9, 'Xavier', 73), 1, 'Indianapolis, IN')\n",
      "((5, 'Oklahoma State', 74), (12, 'Marquette', 62), 0, 'Indianapolis, IN')\n",
      "((4, 'Louisville', 76), (13, 'Delaware', 70), 0, 'Indianapolis, IN')\n",
      "((6, 'California', 66), (11, 'LSU', 64), 0, 'Rosemont, IL')\n",
      "((3, 'Duke', 105), (14, 'Southern Illinois', 70), 0, 'Rosemont, IL')\n",
      "((7, 'BYU', 80), (10, 'SMU', 71), 0, 'Rosemont, IL')\n",
      "((2, 'Kansas', 94), (15, 'Ball State', 72), 0, 'Rosemont, IL')\n",
      "((1, 'Kentucky', 96), (16, 'Rider', 52), 0, 'Nashville, TN')\n",
      "((8, 'Utah', 86), (9, 'Pitt', 65), 0, 'Nashville, TN')\n",
      "((5, 'Wake Forest', 81), (12, 'Chattanooga', 58), 0, 'Nashville, TN')\n",
      "((4, 'Iowa', 82), (13, 'Louisiana-Monroe', 69), 0, 'Nashville, TN')\n",
      "((6, 'Kansas State', 53), (11, 'Tulane', 55), 1, 'Orlando, FL')\n",
      "((3, 'Florida State', 82), (14, 'Evansville', 70), 0, 'Orlando, FL')\n",
      "((7, 'Western Kentucky', 55), (10, 'Memphis', 52), 0, 'Orlando, FL')\n",
      "((2, 'Seton Hall', 81), (15, 'Tennessee State', 59), 0, 'Orlando, FL')\n",
      "((1, 'Michigan', 84), (16, 'Coastal Carolina', 53), 0, 'Tucson, AZ')\n",
      "((8, 'Iowa State', 70), (9, 'UCLA', 81), 1, 'Tucson, AZ')\n",
      "((5, 'New Mexico', 68), (12, 'George Washington', 82), 1, 'Tucson, AZ')\n",
      "((4, 'Georgia Tech', 78), (13, 'Southern', 93), 1, 'Tucson, AZ')\n",
      "((6, 'Illinois', 75), (11, 'Long Beach State', 72), 0, 'Salt Lake City, UT')\n",
      "((3, 'Vanderbilt', 92), (14, 'Boise State', 72), 0, 'Salt Lake City, UT')\n",
      "((7, 'Temple', 75), (10, 'Missouri', 61), 0, 'Salt Lake City, UT')\n",
      "((2, 'Arizona', 61), (15, 'Santa Clara', 64), 1, 'Salt Lake City, UT')\n",
      "======== Round of 32 ==========\n",
      "((1, 'UNC', 112), (8, 'Rhode Island', 67), 0, 'Winston-Salem, NC')\n",
      "((5, \"St. John's (NY)\", 74), (4, 'Arkansas', 80), 1, 'Winston-Salem, NC')\n",
      "((6, 'Virginia', 71), (3, 'UMass', 56), 0, 'Syracuse, NY')\n",
      "((7, 'New Mexico State', 55), (2, 'Cincinnati', 92), 1, 'Syracuse, NY')\n",
      "((1, 'Indiana', 73), (9, 'Xavier', 70), 0, 'Indianapolis, IN')\n",
      "((5, 'Oklahoma State', 63), (4, 'Louisville', 78), 1, 'Indianapolis, IN')\n",
      "((6, 'California', 82), (3, 'Duke', 77), 0, 'Rosemont, IL')\n",
      "((7, 'BYU', 76), (2, 'Kansas', 90), 1, 'Rosemont, IL')\n",
      "((1, 'Kentucky', 83), (8, 'Utah', 62), 0, 'Nashville, TN')\n",
      "((5, 'Wake Forest', 84), (4, 'Iowa', 78), 0, 'Nashville, TN')\n",
      "((11, 'Tulane', 63), (3, 'Florida State', 94), 1, 'Orlando, FL')\n",
      "((7, 'Western Kentucky', 72), (2, 'Seton Hall', 68), 0, 'Orlando, FL')\n",
      "((1, 'Michigan', 86), (9, 'UCLA', 84), 0, 'Tucson, AZ')\n",
      "((12, 'George Washington', 90), (13, 'Southern', 80), 0, 'Tucson, AZ')\n",
      "((6, 'Illinois', 68), (3, 'Vanderbilt', 85), 1, 'Salt Lake City, UT')\n",
      "((7, 'Temple', 68), (15, 'Santa Clara', 57), 0, 'Salt Lake City, UT')\n",
      "======== Round of 16 ==========\n",
      "((1, 'UNC', 80), (4, 'Arkansas', 74), 0, 'East Rutherford, NJ')\n",
      "((6, 'Virginia', 54), (2, 'Cincinnati', 71), 1, 'East Rutherford, NJ')\n",
      "((1, 'Indiana', 82), (4, 'Louisville', 69), 0, 'St. Louis, MO')\n",
      "((6, 'California', 76), (2, 'Kansas', 93), 1, 'St. Louis, MO')\n",
      "((1, 'Kentucky', 103), (5, 'Wake Forest', 69), 0, 'Charlotte, NC')\n",
      "((3, 'Florida State', 81), (7, 'Western Kentucky', 78), 0, 'Charlotte, NC')\n",
      "((1, 'Michigan', 72), (12, 'George Washington', 64), 0, 'Seattle, WA')\n",
      "((3, 'Vanderbilt', 59), (7, 'Temple', 67), 1, 'Seattle, WA')\n",
      "======== Round of 8 ==========\n",
      "((1, 'UNC', 75), (2, 'Cincinnati', 68), 0, 'East Rutherford, NJ')\n",
      "((1, 'Indiana', 77), (2, 'Kansas', 83), 1, 'St. Louis, MO')\n",
      "((1, 'Kentucky', 106), (3, 'Florida State', 81), 0, 'Charlotte, NC')\n",
      "((1, 'Michigan', 77), (7, 'Temple', 72), 0, 'Seattle, WA')\n",
      "======== Round of 4 ==========\n",
      "((1, 'UNC', 78), (2, 'Kansas', 68), 0, 'New Orleans, LA')\n",
      "((1, 'Kentucky', 78), (1, 'Michigan', 81), 1, 'New Orleans, LA')\n",
      "======== Round of 2 ==========\n",
      "((1, 'UNC', 77), (1, 'Michigan', 71), 0, 'New Orleans, LA')\n"
     ]
    }
   ],
   "source": [
    "rounds = pt.parse_tournament(1993)\n",
    "\n",
    "for r in rounds:\n",
    "    print(\"======== Round of {} ==========\".format(2*len(r)))\n",
    "    for g in r:\n",
    "        print(g)"
   ]
  },
  {
   "cell_type": "code",
   "execution_count": 3,
   "id": "3c987b06",
   "metadata": {},
   "outputs": [],
   "source": [
    "df = st.get_combined_stats_table(2018)"
   ]
  },
  {
   "cell_type": "code",
   "execution_count": 21,
   "id": "866d122f",
   "metadata": {},
   "outputs": [],
   "source": [
    "# return 0 if teamA wins, 1 if teamB wins\n",
    "def simulate_game(stats_df, teamA, teamB, score_fun, debug=False):\n",
    "    if debug:\n",
    "        print(\"TeamA: {}, TeamB: {}\".format(teamA, teamB))\n",
    "        \n",
    "    return score_fun(stats_df.loc[teamA], stats_df.loc[teamB], debug)\n",
    "\n",
    "    \n",
    "def robot1(teamA_combined_stats, teamB_combined_stats, debug=False):\n",
    "    stats = ['Overall_SRS', 'TS%', 'FT', 'ORB', 'TRB%', 'AST%']\n",
    "    weights = [2.5        ,  1   ,  0.5,  1   ,  2    ,  1]\n",
    "    maxdiff = [15.        ,  3.  ,  50.,  50. ,  15.  ,  10.]\n",
    "    \n",
    "    accum = 0\n",
    "    \n",
    "    for s, w, md in zip(stats, weights, maxdiff):\n",
    "        valA = float(teamA_combined_stats[s])\n",
    "        valB = float(teamB_combined_stats[s])\n",
    "        \n",
    "        # old line incorrect: accum += w / md * min(md, valA - valB)\n",
    "        dval = valA - valB\n",
    "        dval = np.sign(dval) * min(abs(dval), md)\n",
    "        accum += dval\n",
    "        \n",
    "        if debug:\n",
    "            # TODO start here\n",
    "            pass\n",
    "        \n",
    "    if accum > 0: # teamA wins\n",
    "        return 0\n",
    "    else: # teamB wins\n",
    "        return 1"
   ]
  },
  {
   "cell_type": "code",
   "execution_count": 33,
   "id": "4030eabf",
   "metadata": {},
   "outputs": [
    {
     "data": {
      "text/plain": [
       "0"
      ]
     },
     "execution_count": 33,
     "metadata": {},
     "output_type": "execute_result"
    }
   ],
   "source": [
    "simulate_game(df, \"Duke\", \"North Carolina\", robot1)"
   ]
  }
 ],
 "metadata": {
  "kernelspec": {
   "display_name": "Python 3",
   "language": "python",
   "name": "python3"
  },
  "language_info": {
   "codemirror_mode": {
    "name": "ipython",
    "version": 3
   },
   "file_extension": ".py",
   "mimetype": "text/x-python",
   "name": "python",
   "nbconvert_exporter": "python",
   "pygments_lexer": "ipython3",
   "version": "3.6.8"
  }
 },
 "nbformat": 4,
 "nbformat_minor": 5
}
