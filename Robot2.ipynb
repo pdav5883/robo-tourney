{
 "cells": [
  {
   "cell_type": "markdown",
   "id": "5b83c291",
   "metadata": {},
   "source": [
    "`tournament`: list of rounds (don't include first four)\n",
    "\n",
    "`round`: list of games in the round (all regions)\n",
    "\n",
    "`game: ((rankA, teamA, scoreA), (rankB, teamB, scoreB), winner, location)`\n",
    "\n",
    "`winner`: 0 if teamA wins, 1 if teamB wins"
   ]
  },
  {
   "cell_type": "code",
   "execution_count": 1,
   "id": "83c9818f",
   "metadata": {},
   "outputs": [],
   "source": [
    "import parse_tournament as pt\n",
    "import stats_table as st\n",
    "import numpy as np"
   ]
  },
  {
   "cell_type": "code",
   "execution_count": 4,
   "id": "4ae96e2f",
   "metadata": {},
   "outputs": [],
   "source": [
    "import importlib as il"
   ]
  },
  {
   "cell_type": "code",
   "execution_count": 14,
   "id": "d13e58d3",
   "metadata": {},
   "outputs": [
    {
     "data": {
      "text/plain": [
       "<module 'parse_tournament' from '/home/peter/Projects/robo-tourney/parse_tournament.py'>"
      ]
     },
     "execution_count": 14,
     "metadata": {},
     "output_type": "execute_result"
    }
   ],
   "source": [
    "il.reload(pt)"
   ]
  },
  {
   "cell_type": "code",
   "execution_count": 16,
   "id": "23fa3335",
   "metadata": {},
   "outputs": [
    {
     "name": "stdout",
     "output_type": "stream",
     "text": [
      "======== Round of 64 ==========\n",
      "((1, 'Villanova', 76), (16, \"Mount St. Mary's\", 56), 0, 'Buffalo, NY')\n",
      "((8, 'Wisconsin', 84), (9, 'Virginia Tech', 74), 0, 'Buffalo, NY')\n",
      "((5, 'Virginia', 76), (12, 'UNC Wilmington', 71), 0, 'Orlando, FL')\n",
      "((4, 'Florida', 80), (13, 'ETSU', 65), 0, 'Orlando, FL')\n",
      "((6, 'SMU', 65), (11, 'USC', 66), 1, 'Tulsa, OK')\n",
      "((3, 'Baylor', 91), (14, 'New Mexico State', 73), 0, 'Tulsa, OK')\n",
      "((7, 'South Carolina', 93), (10, 'Marquette', 73), 0, 'Greenville, SC')\n",
      "((2, 'Duke', 87), (15, 'Troy', 65), 0, 'Greenville, SC')\n",
      "((1, 'Kansas', 100), (16, 'UC-Davis', 62), 0, 'Tulsa, OK')\n",
      "((8, 'Miami (FL)', 58), (9, 'Michigan State', 78), 1, 'Tulsa, OK')\n",
      "((5, 'Iowa State', 84), (12, 'Nevada', 73), 0, 'Milwaukee, WI')\n",
      "((4, 'Purdue', 80), (13, 'Vermont', 70), 0, 'Milwaukee, WI')\n",
      "((6, 'Creighton', 72), (11, 'Rhode Island', 84), 1, 'Sacramento, CA')\n",
      "((3, 'Oregon', 93), (14, 'Iona', 77), 0, 'Sacramento, CA')\n",
      "((7, 'Michigan', 92), (10, 'Oklahoma State', 91), 0, 'Indianapolis, IN')\n",
      "((2, 'Louisville', 78), (15, 'Jacksonville State', 63), 0, 'Indianapolis, IN')\n",
      "((1, 'UNC', 103), (16, 'Texas Southern', 64), 0, 'Greenville, SC')\n",
      "((8, 'Arkansas', 77), (9, 'Seton Hall', 71), 0, 'Greenville, SC')\n",
      "((5, 'Minnesota', 72), (12, 'Middle Tennessee', 81), 1, 'Milwaukee, WI')\n",
      "((4, 'Butler', 76), (13, 'Winthrop', 64), 0, 'Milwaukee, WI')\n",
      "((6, 'Cincinnati', 75), (11, 'Kansas State', 61), 0, 'Sacramento, CA')\n",
      "((3, 'UCLA', 97), (14, 'Kent State', 80), 0, 'Sacramento, CA')\n",
      "((7, 'Dayton', 58), (10, 'Wichita State', 64), 1, 'Indianapolis, IN')\n",
      "((2, 'Kentucky', 79), (15, 'Northern Kentucky', 70), 0, 'Indianapolis, IN')\n",
      "((1, 'Gonzaga', 66), (16, 'South Dakota State', 46), 0, 'Salt Lake City, UT')\n",
      "((8, 'Northwestern', 68), (9, 'Vanderbilt', 66), 0, 'Salt Lake City, UT')\n",
      "((5, 'Notre Dame', 60), (12, 'Princeton', 58), 0, 'Buffalo, NY')\n",
      "((4, 'West Virginia', 86), (13, 'Bucknell', 80), 0, 'Buffalo, NY')\n",
      "((6, 'Maryland', 65), (11, 'Xavier', 76), 1, 'Orlando, FL')\n",
      "((3, 'Florida State', 86), (14, 'Florida Gulf Coast', 80), 0, 'Orlando, FL')\n",
      "((7, \"Saint Mary's\", 85), (10, 'VCU', 77), 0, 'Salt Lake City, UT')\n",
      "((2, 'Arizona', 100), (15, 'North Dakota', 82), 0, 'Salt Lake City, UT')\n",
      "======== Round of 32 ==========\n",
      "((1, 'Villanova', 62), (8, 'Wisconsin', 65), 1, 'Buffalo, NY')\n",
      "((5, 'Virginia', 39), (4, 'Florida', 65), 1, 'Orlando, FL')\n",
      "((11, 'USC', 78), (3, 'Baylor', 82), 1, 'Tulsa, OK')\n",
      "((7, 'South Carolina', 88), (2, 'Duke', 81), 0, 'Greenville, SC')\n",
      "((1, 'Kansas', 90), (9, 'Michigan State', 70), 0, 'Tulsa, OK')\n",
      "((5, 'Iowa State', 76), (4, 'Purdue', 80), 1, 'Milwaukee, WI')\n",
      "((11, 'Rhode Island', 72), (3, 'Oregon', 75), 1, 'Sacramento, CA')\n",
      "((7, 'Michigan', 73), (2, 'Louisville', 69), 0, 'Indianapolis, IN')\n",
      "((1, 'UNC', 72), (8, 'Arkansas', 65), 0, 'Greenville, SC')\n",
      "((12, 'Middle Tennessee', 65), (4, 'Butler', 74), 1, 'Milwaukee, WI')\n",
      "((6, 'Cincinnati', 67), (3, 'UCLA', 79), 1, 'Sacramento, CA')\n",
      "((10, 'Wichita State', 62), (2, 'Kentucky', 65), 1, 'Indianapolis, IN')\n",
      "((1, 'Gonzaga', 79), (8, 'Northwestern', 73), 0, 'Salt Lake City, UT')\n",
      "((5, 'Notre Dame', 71), (4, 'West Virginia', 83), 1, 'Buffalo, NY')\n",
      "((11, 'Xavier', 91), (3, 'Florida State', 66), 0, 'Orlando, FL')\n",
      "((7, \"Saint Mary's\", 60), (2, 'Arizona', 69), 1, 'Salt Lake City, UT')\n",
      "======== Round of 16 ==========\n",
      "((8, 'Wisconsin', 83), (4, 'Florida', 84), 1, 'New York, NY')\n",
      "((3, 'Baylor', 50), (7, 'South Carolina', 70), 1, 'New York, NY')\n",
      "((1, 'Kansas', 98), (4, 'Purdue', 66), 0, 'Kansas City, MO')\n",
      "((3, 'Oregon', 69), (7, 'Michigan', 68), 0, 'Kansas City, MO')\n",
      "((1, 'UNC', 92), (4, 'Butler', 80), 0, 'Memphis, TN')\n",
      "((3, 'UCLA', 75), (2, 'Kentucky', 86), 1, 'Memphis, TN')\n",
      "((1, 'Gonzaga', 61), (4, 'West Virginia', 58), 0, 'San Jose, CA')\n",
      "((11, 'Xavier', 73), (2, 'Arizona', 71), 0, 'San Jose, CA')\n",
      "======== Round of 8 ==========\n",
      "((4, 'Florida', 70), (7, 'South Carolina', 77), 1, 'New York, NY')\n",
      "((1, 'Kansas', 60), (3, 'Oregon', 74), 1, 'Kansas City, MO')\n",
      "((1, 'UNC', 75), (2, 'Kentucky', 73), 0, 'Memphis, TN')\n",
      "((1, 'Gonzaga', 83), (11, 'Xavier', 59), 0, 'San Jose, CA')\n",
      "======== Round of 4 ==========\n",
      "((7, 'South Carolina', 73), (1, 'Gonzaga', 77), 1, 'Glendale, AZ')\n",
      "((1, 'UNC', 77), (3, 'Oregon', 76), 0, 'Glendale, AZ')\n",
      "======== Round of 2 ==========\n",
      "((1, 'Gonzaga', 65), (1, 'UNC', 71), 1, 'Glendale, AZ')\n"
     ]
    }
   ],
   "source": [
    "rounds = pt.parse_tournament(2017)\n",
    "\n",
    "for r in rounds:\n",
    "    print(\"======== Round of {} ==========\".format(2*len(r)))\n",
    "    for g in r:\n",
    "        print(g)"
   ]
  },
  {
   "cell_type": "code",
   "execution_count": 3,
   "id": "3c987b06",
   "metadata": {},
   "outputs": [],
   "source": [
    "df = st.get_combined_stats_table(2018)"
   ]
  },
  {
   "cell_type": "code",
   "execution_count": 21,
   "id": "866d122f",
   "metadata": {},
   "outputs": [],
   "source": [
    "# return 0 if teamA wins, 1 if teamB wins\n",
    "def simulate_game(stats_df, teamA, teamB, score_fun, debug=False):\n",
    "    if debug:\n",
    "        print(\"TeamA: {}, TeamB: {}\".format(teamA, teamB))\n",
    "        \n",
    "    return score_fun(stats_df.loc[teamA], stats_df.loc[teamB], debug)\n",
    "\n",
    "    \n",
    "def robot1(teamA_combined_stats, teamB_combined_stats, debug=False):\n",
    "    stats = ['Overall_SRS', 'TS%', 'FT', 'ORB', 'TRB%', 'AST%']\n",
    "    weights = [2.5        ,  1   ,  0.5,  1   ,  2    ,  1]\n",
    "    maxdiff = [15.        ,  3.  ,  50.,  50. ,  15.  ,  10.]\n",
    "    \n",
    "    accum = 0\n",
    "    \n",
    "    for s, w, md in zip(stats, weights, maxdiff):\n",
    "        valA = float(teamA_combined_stats[s])\n",
    "        valB = float(teamB_combined_stats[s])\n",
    "        \n",
    "        # old line incorrect: accum += w / md * min(md, valA - valB)\n",
    "        dval = valA - valB\n",
    "        dval = np.sign(dval) * min(abs(dval), md)\n",
    "        accum += dval\n",
    "        \n",
    "        if debug:\n",
    "            # TODO start here\n",
    "            pass\n",
    "        \n",
    "    if accum > 0: # teamA wins\n",
    "        return 0\n",
    "    else: # teamB wins\n",
    "        return 1"
   ]
  },
  {
   "cell_type": "code",
   "execution_count": 33,
   "id": "4030eabf",
   "metadata": {},
   "outputs": [
    {
     "data": {
      "text/plain": [
       "0"
      ]
     },
     "execution_count": 33,
     "metadata": {},
     "output_type": "execute_result"
    }
   ],
   "source": [
    "simulate_game(df, \"Duke\", \"North Carolina\", robot1)"
   ]
  }
 ],
 "metadata": {
  "kernelspec": {
   "display_name": "Python 3",
   "language": "python",
   "name": "python3"
  },
  "language_info": {
   "codemirror_mode": {
    "name": "ipython",
    "version": 3
   },
   "file_extension": ".py",
   "mimetype": "text/x-python",
   "name": "python",
   "nbconvert_exporter": "python",
   "pygments_lexer": "ipython3",
   "version": "3.6.8"
  }
 },
 "nbformat": 4,
 "nbformat_minor": 5
}
